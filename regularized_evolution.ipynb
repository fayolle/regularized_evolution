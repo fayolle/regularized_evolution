{
  "nbformat": 4,
  "nbformat_minor": 0,
  "metadata": {
    "colab": {
      "name": "regularized_evolution.ipynb",
      "provenance": [],
      "collapsed_sections": [],
      "authorship_tag": "ABX9TyNZArTiX6YeTdUzR6On4ZTS"
    },
    "kernelspec": {
      "name": "python3",
      "display_name": "Python 3"
    },
    "language_info": {
      "name": "python"
    }
  },
  "cells": [
    {
      "cell_type": "markdown",
      "metadata": {
        "id": "eFhHCHVGFnMo"
      },
      "source": [
        "Experiments with [regularized evolution](https://arxiv.org/pdf/1802.01548.pdf)"
      ]
    },
    {
      "cell_type": "code",
      "metadata": {
        "id": "1phWG4YTHY7Q"
      },
      "source": [
        "import random\n",
        "import collections\n",
        "import copy\n",
        "import scipy\n",
        "from scipy.optimize import dual_annealing"
      ],
      "execution_count": 46,
      "outputs": []
    },
    {
      "cell_type": "code",
      "metadata": {
        "id": "VGcI0fL_3QYq"
      },
      "source": [
        "DIM = 10"
      ],
      "execution_count": 47,
      "outputs": []
    },
    {
      "cell_type": "code",
      "metadata": {
        "id": "0Rvhft0f1Rn7"
      },
      "source": [
        "class Model(object):\n",
        "  def __init__(self):\n",
        "    self.params = []\n",
        "    self.accuracy = None"
      ],
      "execution_count": 13,
      "outputs": []
    },
    {
      "cell_type": "code",
      "metadata": {
        "id": "j3mL2U7bGcgZ"
      },
      "source": [
        "# Rosenbrock in 10D\n",
        "def evalModel(params):\n",
        "  sum = 0.0\n",
        "  for i in range(DIM-1):\n",
        "    sum = sum + (100.0*(params[i+1] - (params[i])**2)**2 + (1 - params[i])**2)\n",
        "  return sum"
      ],
      "execution_count": 48,
      "outputs": []
    },
    {
      "cell_type": "code",
      "metadata": {
        "id": "XaPLuGCpHavm"
      },
      "source": [
        "def randomParameters():\n",
        "  params = []\n",
        "  for _ in range(DIM):\n",
        "    params.append(random.uniform(a=-10.0, b=10.0))\n",
        "  return params\n",
        "\n",
        "def mutateParameters(params):\n",
        "  new_params = copy.deepcopy(params)\n",
        "  idx = random.randint(0, DIM-1)\n",
        "  new_params[idx] = random.uniform(a=-10.0, b=10.0)\n",
        "  return new_params\n",
        "\n",
        "def mutateParameters_v2(params, mu0=0.7):\n",
        "  r = random.uniform(a=0.0, b=1.0)\n",
        "  if r <= mu0:\n",
        "    new_params = copy.deepcopy(params)\n",
        "    idx = random.randint(0, DIM-1)\n",
        "    new_params[idx] = random.uniform(a=-10.0, b=10.0)\n",
        "    return new_params\n",
        "  else:\n",
        "    new_params = []\n",
        "    for _ in range(DIM):\n",
        "      new_params.append(random.uniform(a=-10.0, b=10.0))\n",
        "    return new_params"
      ],
      "execution_count": 35,
      "outputs": []
    },
    {
      "cell_type": "code",
      "metadata": {
        "id": "tup6vTeHH_Mf"
      },
      "source": [
        "def regularizedEvolution(cycles, population_size, sample_size):\n",
        "  population = collections.deque()\n",
        "  history = []\n",
        "\n",
        "  # initialize the population\n",
        "  while (len(population) < population_size):\n",
        "    model = Model()\n",
        "    model.params = randomParameters()\n",
        "    model.accuracy = evalModel(model.params)\n",
        "    population.append(model)\n",
        "    history.append(model)\n",
        "\n",
        "  while (len(history) < cycles):\n",
        "    # Sample models for the tournament\n",
        "    sample = []\n",
        "    while (len(sample) < sample_size):\n",
        "      candidate = random.choice(list(population))\n",
        "      sample.append(candidate)\n",
        "\n",
        "    # Get the best model from sample\n",
        "    parent = min(sample, key = lambda i: i.accuracy)\n",
        "\n",
        "    # Add a mutated model and remove the oldest\n",
        "    child = Model()\n",
        "    child.params = mutateParameters(parent.params)\n",
        "    child.accuracy = evalModel(child.params)\n",
        "    population.append(child)\n",
        "    history.append(child)\n",
        "    population.popleft()\n",
        "\n",
        "  return history"
      ],
      "execution_count": 36,
      "outputs": []
    },
    {
      "cell_type": "markdown",
      "metadata": {
        "id": "tX-v360RKIhZ"
      },
      "source": [
        "Experiments."
      ]
    },
    {
      "cell_type": "code",
      "metadata": {
        "id": "uaA9_VxaKMli"
      },
      "source": [
        "history = regularizedEvolution(cycles=100000, population_size=300, sample_size=50)"
      ],
      "execution_count": 43,
      "outputs": []
    },
    {
      "cell_type": "code",
      "metadata": {
        "id": "QgeX5zw65bta",
        "colab": {
          "base_uri": "https://localhost:8080/"
        },
        "outputId": "ac4db466-1fe1-4d6d-9248-96564a6e247a"
      },
      "source": [
        "best = min(history, key=lambda i: i.accuracy)\n",
        "print(best.accuracy)\n",
        "for p in best.params:\n",
        "  print(p)"
      ],
      "execution_count": 44,
      "outputs": [
        {
          "output_type": "stream",
          "text": [
            "11.701168934957808\n",
            "0.9833844319870373\n",
            "0.9631215341753965\n",
            "1.0247622721789895\n",
            "1.0391251470043983\n",
            "1.0073030008229793\n",
            "0.9705574304926774\n",
            "1.1161136710430437\n",
            "1.4149288434285818\n",
            "1.8294680057466746\n",
            "3.399115610424321\n"
          ],
          "name": "stdout"
        }
      ]
    },
    {
      "cell_type": "markdown",
      "metadata": {
        "id": "bDJ4vJVb_MfE"
      },
      "source": [
        "For comparison, let us use dual annealing from scipy. "
      ]
    },
    {
      "cell_type": "code",
      "metadata": {
        "id": "gOFeio9l_SgS"
      },
      "source": [
        "lb = [-10.0]*DIM\n",
        "ub = [10.0]*DIM\n",
        "res = dual_annealing(evalModel, bounds = list(zip(lb, ub)), seed = 123)"
      ],
      "execution_count": 49,
      "outputs": []
    },
    {
      "cell_type": "code",
      "metadata": {
        "colab": {
          "base_uri": "https://localhost:8080/"
        },
        "id": "KVqjtbUJ_iHH",
        "outputId": "28b011c9-cc26-4fbc-e485-c8a042c16d8b"
      },
      "source": [
        "print(res.x)\n",
        "print(res.fun)"
      ],
      "execution_count": 50,
      "outputs": [
        {
          "output_type": "stream",
          "text": [
            "[0.99999997 0.99999995 0.99999987 0.99999976 0.99999967 0.99999935\n",
            " 0.99999875 0.99999755 0.99999501 0.99999003]\n",
            "3.681947780085446e-11\n"
          ],
          "name": "stdout"
        }
      ]
    }
  ]
}